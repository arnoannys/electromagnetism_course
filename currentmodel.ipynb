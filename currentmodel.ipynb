{
 "cells": [
  {
   "cell_type": "markdown",
   "metadata": {},
   "source": [
    "# Electric current in metals: toy model"
   ]
  },
  {
   "cell_type": "markdown",
   "metadata": {},
   "source": [
    "toy model to simulate and demonstrate electric currents in a metal. We assume 2D to keep it simple to visualise.\n",
    "Notation may be a bit harder to read as all particles are kept in a long array (eg. x is the array of x coordinates for all charge carriers in the simulation) this allows an important speed gain in the simulation (but more optimisation is definitely possible but not the goal here)\n",
    "\n",
    "things to try out:\n",
    "-play with number of particles and study current behavior\n",
    "-increase field Ex and see what happens with current\n",
    "-does ohms law hold? (also for small nr of particles?, also for very high\n",
    "field strengths?)\n",
    "-switch models between 'classic' and 'statistical' to see differences,\n",
    "-judge which one would be closer to reality especially when studying the instanteneous current\n",
    "\n",
    "what does it say about measuring really small currents in small devices (low np)? or really high field strengths?\n",
    "\n",
    "(c) Jo Verbeeck, EMAT, University of Antwerp, Sept 2019"
   ]
  },
  {
   "cell_type": "markdown",
   "metadata": {},
   "source": [
    "load the required libraries for calculation and plotting"
   ]
  },
  {
   "cell_type": "code",
   "execution_count": 57,
   "metadata": {},
   "outputs": [],
   "source": [
    "import numpy as np\n",
    "import numpy.random as rnd\n",
    "import matplotlib.pyplot as plt\n",
    "import matplotlib.animation as anm"
   ]
  },
  {
   "cell_type": "markdown",
   "metadata": {},
   "source": [
    "Initialise"
   ]
  },
  {
   "cell_type": "code",
   "execution_count": 2,
   "metadata": {},
   "outputs": [],
   "source": [
    "rnd.seed(None) #make sure random gen does not repeat itself\n",
    "\n",
    "model='classic'\n",
    "#model='statistical'\n",
    "\n",
    "#create a square 2D conductor\n",
    "w=5e-6 #width in [m]\n",
    "h=w #height in [m]\n",
    "\n",
    "#create a set of charge carriers\n",
    "q=-1.6e-19 #charge of electrons [C]\n",
    "m=9.1e-31 #electron rest mass [kg]\n",
    "npart=50 #number of particles in the box\n",
    "kB=1.38e-23 #Boltzman constant [m^2kgs^-2K-1]\n",
    "T=300 #absolute temperature [K]\n",
    "#vth=1e5 #thermal speed of electrons (assume constant here, in reality it is a stochastic variable [m/s], todo: relate to temp \n",
    "vth=np.sqrt(3*kB*T/m) #3D electron gas assumed, to be strict there are only 2 degrees of freedom which would turn the '3' into a '2'\n",
    "l=100e-9 #free path length [m] (depends on purity of materials and density of defects, remember: no material is ever really perfect)\n",
    "tau=l/vth #free time [s]"
   ]
  },
  {
   "cell_type": "markdown",
   "metadata": {},
   "source": [
    "Define constant electric field over the box in x direction"
   ]
  },
  {
   "cell_type": "code",
   "execution_count": 3,
   "metadata": {},
   "outputs": [],
   "source": [
    "ex=100000 #electric field in x direction [V/m] (note above 1e5 very few materials would survive, but parabolic trajectory becomes hard to notice)\n",
    "ey=0 #electric field in y direction [V/m]\n",
    "\n",
    "#create random initial positions of particles\n",
    "xinit=rnd.random(npart)*w\n",
    "yinit=rnd.random(npart)*h\n",
    "thetainit=rnd.random(npart)*2*np.pi #random flight angle in xy plane"
   ]
  },
  {
   "cell_type": "markdown",
   "metadata": {},
   "source": [
    "Plot the particles in the conductor box"
   ]
  },
  {
   "cell_type": "code",
   "execution_count": 4,
   "metadata": {},
   "outputs": [
    {
     "data": {
      "text/plain": [
       "(-5.829608798251672e-08,\n",
       " 5.106047057959277e-06,\n",
       " 5.817142363463766e-08,\n",
       " 5.2225145695764315e-06)"
      ]
     },
     "execution_count": 4,
     "metadata": {},
     "output_type": "execute_result"
    },
    {
     "data": {
      "image/png": "[encoded data removed]",
      "text/plain": [
       "<Figure size 432x288 with 1 Axes>"
      ]
     },
     "metadata": {},
     "output_type": "display_data"
    }
   ],
   "source": [
    "plt.plot(xinit,yinit,'r.')\n",
    "plt.axis('square')"
   ]
  },
  {
   "cell_type": "markdown",
   "metadata": {},
   "source": [
    "Run over time (take enough time points to keep accuracy, do convergence test, this depends also on E field)"
   ]
  },
  {
   "cell_type": "code",
   "execution_count": 95,
   "metadata": {},
   "outputs": [],
   "source": [
    "tpoints=1000\n",
    "tmax=10*tau\n",
    "t=np.tile(np.linspace(0,tmax,tpoints),[npart,1]) #each particle has its own timescale that gets reset when a collision occurs\n",
    "#t=np.transpose(t)\n",
    "x=xinit\n",
    "y=yinit\n",
    "theta=thetainit\n",
    "\n",
    "if (model=='statistical'):\n",
    "        vx=vth*np.cos(theta)+tau*q*ex/m #assume the particle has a past, it already gained an average acceleration over a time tau (approximate but better than assuming 0)\n",
    "        vy=vth*np.sin(theta)+tau*q*ey/m\n",
    "else :\n",
    "        #(model=='classic'):\n",
    "        vx=vth*np.cos(theta)+tau*q*ex/(2*m) #assume the particle has a past, it already gained an average acceleration over a time tau (approximate but better than assuming 0)\n",
    "        vy=vth*np.sin(theta)+tau*q*ey/(2*m)\n",
    "        \n",
    "dt=tmax/tpoints"
   ]
  },
  {
   "cell_type": "code",
   "execution_count": 10,
   "metadata": {},
   "outputs": [
    {
     "data": {
      "text/plain": [
       "8.559726695111711e-13"
      ]
     },
     "execution_count": 10,
     "metadata": {},
     "output_type": "execute_result"
    }
   ],
   "source": [
    "tau"
   ]
  },
  {
   "cell_type": "code",
   "execution_count": 96,
   "metadata": {},
   "outputs": [
    {
     "ename": "ValueError",
     "evalue": "operands could not be broadcast together with shapes (1,50) (1000,) ",
     "output_type": "error",
     "traceback": [
      "\u001b[0;31m---------------------------------------------------------------------------\u001b[0m",
      "\u001b[0;31mValueError\u001b[0m                                Traceback (most recent call last)",
      "\u001b[0;32m<ipython-input-96-920b7a0a9c23>\u001b[0m in \u001b[0;36m<module>\u001b[0;34m()\u001b[0m\n\u001b[1;32m     33\u001b[0m     \u001b[0;32mif\u001b[0m \u001b[0;34m(\u001b[0m\u001b[0mcollid\u001b[0m\u001b[0;34m[\u001b[0m\u001b[0;36m0\u001b[0m\u001b[0;34m]\u001b[0m\u001b[0;34m.\u001b[0m\u001b[0msize\u001b[0m\u001b[0;34m>\u001b[0m\u001b[0;36m0\u001b[0m\u001b[0;34m)\u001b[0m \u001b[0;34m:\u001b[0m\u001b[0;34m\u001b[0m\u001b[0m\n\u001b[1;32m     34\u001b[0m             \u001b[0mnp\u001b[0m\u001b[0;34m.\u001b[0m\u001b[0mmean\u001b[0m\u001b[0;34m(\u001b[0m\u001b[0mt\u001b[0m\u001b[0;34m[\u001b[0m\u001b[0mcollid\u001b[0m\u001b[0;34m,\u001b[0m\u001b[0mtid\u001b[0m\u001b[0;34m]\u001b[0m\u001b[0;34m)\u001b[0m \u001b[0;31m#should be close to tau if statistics is correct\u001b[0m\u001b[0;34m\u001b[0m\u001b[0m\n\u001b[0;32m---> 35\u001b[0;31m             \u001b[0mt\u001b[0m\u001b[0;34m[\u001b[0m\u001b[0mcollid\u001b[0m\u001b[0;34m,\u001b[0m\u001b[0;34m:\u001b[0m\u001b[0;34m]\u001b[0m\u001b[0;34m=\u001b[0m\u001b[0mt\u001b[0m\u001b[0;34m[\u001b[0m\u001b[0mcollid\u001b[0m\u001b[0;34m,\u001b[0m\u001b[0;34m:\u001b[0m\u001b[0;34m]\u001b[0m\u001b[0;34m-\u001b[0m\u001b[0mt\u001b[0m\u001b[0;34m[\u001b[0m\u001b[0mcollid\u001b[0m\u001b[0;34m,\u001b[0m\u001b[0mtid\u001b[0m\u001b[0;34m]\u001b[0m\u001b[0;34m*\u001b[0m\u001b[0mnp\u001b[0m\u001b[0;34m.\u001b[0m\u001b[0mones\u001b[0m\u001b[0;34m(\u001b[0m\u001b[0mtpoints\u001b[0m\u001b[0;34m)\u001b[0m \u001b[0;31m#reset time to zero for those particles that had a collision\u001b[0m\u001b[0;34m\u001b[0m\u001b[0m\n\u001b[0m\u001b[1;32m     36\u001b[0m             \u001b[0mtheta\u001b[0m\u001b[0;34m[\u001b[0m\u001b[0mcollid\u001b[0m\u001b[0;34m]\u001b[0m\u001b[0;34m=\u001b[0m\u001b[0mrnd\u001b[0m\u001b[0;34m.\u001b[0m\u001b[0mrandom\u001b[0m\u001b[0;34m(\u001b[0m\u001b[0mtheta\u001b[0m\u001b[0;34m(\u001b[0m\u001b[0mcollid\u001b[0m\u001b[0;34m)\u001b[0m\u001b[0;34m.\u001b[0m\u001b[0mshape\u001b[0m\u001b[0;34m)\u001b[0m\u001b[0;34m*\u001b[0m\u001b[0;36m2\u001b[0m\u001b[0;34m*\u001b[0m\u001b[0mnp\u001b[0m\u001b[0;34m.\u001b[0m\u001b[0mpi\u001b[0m \u001b[0;31m#new angle for those particles that had a collision\u001b[0m\u001b[0;34m\u001b[0m\u001b[0m\n\u001b[1;32m     37\u001b[0m             \u001b[0mvx\u001b[0m\u001b[0;34m[\u001b[0m\u001b[0mcollid\u001b[0m\u001b[0;34m]\u001b[0m\u001b[0;34m=\u001b[0m\u001b[0mnp\u001b[0m\u001b[0;34m.\u001b[0m\u001b[0mmultiply\u001b[0m\u001b[0;34m(\u001b[0m\u001b[0mvth\u001b[0m\u001b[0;34m,\u001b[0m\u001b[0mnp\u001b[0m\u001b[0;34m.\u001b[0m\u001b[0mcos\u001b[0m\u001b[0;34m(\u001b[0m\u001b[0mtheta\u001b[0m\u001b[0;34m[\u001b[0m\u001b[0mcollid\u001b[0m\u001b[0;34m]\u001b[0m\u001b[0;34m)\u001b[0m\u001b[0;34m)\u001b[0m \u001b[0;31m#in case of collision take new speed, otherwise keep old speed\u001b[0m\u001b[0;34m\u001b[0m\u001b[0m\n",
      "\u001b[0;31mValueError\u001b[0m: operands could not be broadcast together with shapes (1,50) (1000,) "
     ]
    },
    {
     "data": {
      "image/png": "[encoded data removed]",
      "text/plain": [
       "<Figure size 432x288 with 1 Axes>"
      ]
     },
     "metadata": {},
     "output_type": "display_data"
    }
   ],
   "source": [
    "jx=np.zeros(tpoints)\n",
    "jy=np.zeros(tpoints)\n",
    "figure = plt.figure()\n",
    "\n",
    "for tid in range(tpoints):\n",
    "    #calculate new point some time later   \n",
    "    x=x+vx*dt\n",
    "    y=y+vy*dt\n",
    "    #and acceleration term due to E field\n",
    "    vx=vx+np.ones(vx.shape)*dt*q*ex/m\n",
    "    vy=vy+np.ones(vy.shape)*dt*q*ey/m\n",
    "    \n",
    "    #calculate current\n",
    "    jx[tid]=npart*q*np.mean(vx) #instantenous current (note the random fluctuation which should get less for more particles)\n",
    "    jy[tid]=npart*q*np.mean(vy) #instantenous current (note the random fluctuation which should get less for more particles)\n",
    "    \n",
    "    #check if they hit the wall and keep them inside box by modulo\n",
    "    x=np.mod(x,w) #particle that dissapear through top wall will reappear bottom to keep nr of particles constant\n",
    "    y=np.mod(y,h) #particle that dissapear through right wall will reappear left to keep nr of particles constant\n",
    "     \n",
    "    #reset speed and direction in case a collision with impurity occurs\n",
    "    if (model=='statistical'):\n",
    "            #careful with this formula, contains statistical difficulties,\n",
    "            #as we do a statistical draw in each time point which needs to\n",
    "            #be compensated (otherwise more time points would lead to\n",
    "            #faster collision)        \n",
    "            draw=np.exp(np.divide(-t[:,tid],tau*(t[:,tid]/dt + np.ones(npart)) )) #a vector with indices for those particles that have a collision now (statistical model for exponential chance of colliding)\n",
    "            collid=np.where(np.random(npart)>draw)\n",
    "                        \n",
    "    else:\n",
    "            #classical model\n",
    "            collid=np.nonzero(t[:,tid]>(tau*np.ones(npart))) #classical collision all collide when t==tau\n",
    "    if (collid[0].size>0) :      \n",
    "            np.mean(t[collid,tid]) #should be close to tau if statistics is correct\n",
    "            t[collid,:]=t[collid,:]-t[collid,tid]*np.ones(tpoints) #reset time to zero for those particles that had a collision\n",
    "            theta[collid]=rnd.random(theta(collid).shape)*2*np.pi #new angle for those particles that had a collision\n",
    "            vx[collid]=np.multiply(vth,np.cos(theta[collid])) #in case of collision take new speed, otherwise keep old speed\n",
    "            vy[collid]=np.multiply(vth,np.sin(theta[collid]))\n",
    "       \n",
    "    #show\n",
    "    plt.plot(x,y,'r.',x[collid],y[collid],'b.','MarkerSize',4)\n",
    "plt.show() \n",
    "j=np.mean(jx)\n",
    "sigma=np.mean(jx)/ex #conductivity estimate (with stochastic noise)\n",
    "mu=sigma/(npart*q) #mobility estimate"
   ]
  },
  {
   "cell_type": "code",
   "execution_count": 43,
   "metadata": {},
   "outputs": [
    {
     "data": {
      "text/plain": [
       "False"
      ]
     },
     "execution_count": 43,
     "metadata": {},
     "output_type": "execute_result"
    }
   ],
   "source": [
    "collid[0].size>0"
   ]
  },
  {
   "cell_type": "markdown",
   "metadata": {},
   "source": [
    "Compare with analytical results from course notes"
   ]
  },
  {
   "cell_type": "code",
   "execution_count": null,
   "metadata": {},
   "outputs": [],
   "source": [
    "mus=q*tau/m \n",
    "sigmas=npart*q**2*tau/m \n",
    "muc=q*tau/(2*m) \n",
    "sigmac=npart*q**2*tau/(2*m) "
   ]
  },
  {
   "cell_type": "code",
   "execution_count": null,
   "metadata": {},
   "outputs": [],
   "source": [
    "plt.plot(t[1,:],jx,'b',t[1,:],sigmas*ex*np.ones(jx.shape),'r',t[1,:],sigmac*ex*np.ones(jx.shape),'g')\n",
    "plt.title('instantenous current')\n",
    "plt.xlabel('t')\n",
    "plt.ylabel('J')\n",
    "plt.legend('Jx','statistical prediction','classical prediction')"
   ]
  }
 ],
 "metadata": {
  "kernelspec": {
   "display_name": "Python 3",
   "language": "python",
   "name": "python3"
  },
  "language_info": {
   "codemirror_mode": {
    "name": "ipython",
    "version": 3
   },
   "file_extension": ".py",
   "mimetype": "text/x-python",
   "name": "python",
   "nbconvert_exporter": "python",
   "pygments_lexer": "ipython3",
   "version": "3.6.5"
  }
 },
 "nbformat": 4,
 "nbformat_minor": 2
}
